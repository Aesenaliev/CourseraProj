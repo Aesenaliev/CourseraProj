{
 "cells": [
  {
   "cell_type": "markdown",
   "id": "245f9396-62b3-4171-b4d0-a308dabd35f8",
   "metadata": {},
   "source": [
    "# Data Science Tools and Ecosystem"
   ]
  },
  {
   "cell_type": "markdown",
   "id": "48fe48b2-a33f-4b16-ae09-7ced3e78b858",
   "metadata": {},
   "source": [
    "In this notebook, Data Science Tools and Ecosystem are summarized."
   ]
  },
  {
   "cell_type": "markdown",
   "id": "8de1f376-2760-46bc-9778-690121ad9c6d",
   "metadata": {},
   "source": [
    "**Objectives:**\n",
    "* Popular Languages\n",
    "* Libraries\n",
    "* Tools"
   ]
  },
  {
   "cell_type": "markdown",
   "id": "57020ccf-8714-436f-a5ff-4eb98bc35f18",
   "metadata": {},
   "source": [
    "Some of the popular languages that Data Scientists use are:\n",
    "1. Python\n",
    "2. R\n",
    "3. Julia"
   ]
  },
  {
   "cell_type": "markdown",
   "id": "3ccd911a-f603-49b4-861a-7370ff9906f1",
   "metadata": {},
   "source": [
    "Some of the commonly used libraries used by Data Scientists include:\n",
    "1. Pandas\n",
    "2. NumPy\n",
    "3. Seaborn"
   ]
  },
  {
   "cell_type": "markdown",
   "id": "7b110c78-6c6b-4240-ba62-77058c8daa7b",
   "metadata": {},
   "source": [
    "| Data Science Tools |\n",
    "|--------------------|\n",
    "| Github |\n",
    "| MySQL |\n",
    "| Hadoop |"
   ]
  },
  {
   "cell_type": "markdown",
   "id": "19a1a4c4-c390-49fb-8849-7f64136a89a4",
   "metadata": {},
   "source": [
    "### Below are a few examples of evaluating arithmetic expressions in Python"
   ]
  },
  {
   "cell_type": "code",
   "execution_count": 1,
   "id": "fff8132f-3b19-4750-992b-77f00375ceec",
   "metadata": {
    "tags": []
   },
   "outputs": [
    {
     "data": {
      "text/plain": [
       "17"
      ]
     },
     "execution_count": 1,
     "metadata": {},
     "output_type": "execute_result"
    }
   ],
   "source": [
    "(3*4)+5\n",
    "# This a simple arithmetic expression to mutiply then add integers"
   ]
  },
  {
   "cell_type": "code",
   "execution_count": 2,
   "id": "4965cefd-9dd8-4605-9863-64a4fac1e2d5",
   "metadata": {
    "tags": []
   },
   "outputs": [
    {
     "data": {
      "text/plain": [
       "3.3333333333333335"
      ]
     },
     "execution_count": 2,
     "metadata": {},
     "output_type": "execute_result"
    }
   ],
   "source": [
    "# This will convert 200 minutes to hours by diving by 60\n",
    "200/60"
   ]
  },
  {
   "cell_type": "markdown",
   "id": "b11743d0-3d86-46e3-9c03-6b9adff98b88",
   "metadata": {},
   "source": [
    "## Author\n",
    "Arthur"
   ]
  }
 ],
 "metadata": {
  "kernelspec": {
   "display_name": "Python",
   "language": "python",
   "name": "conda-env-python-py"
  },
  "language_info": {
   "codemirror_mode": {
    "name": "ipython",
    "version": 3
   },
   "file_extension": ".py",
   "mimetype": "text/x-python",
   "name": "python",
   "nbconvert_exporter": "python",
   "pygments_lexer": "ipython3",
   "version": "3.7.12"
  }
 },
 "nbformat": 4,
 "nbformat_minor": 5
}
